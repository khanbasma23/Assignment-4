{
  "nbformat": 4,
  "nbformat_minor": 0,
  "metadata": {
    "colab": {
      "provenance": [],
      "authorship_tag": "ABX9TyNOV3UY0PL82utACMOQJ1P+",
      "include_colab_link": true
    },
    "kernelspec": {
      "name": "python3",
      "display_name": "Python 3"
    },
    "language_info": {
      "name": "python"
    }
  },
  "cells": [
    {
      "cell_type": "markdown",
      "metadata": {
        "id": "view-in-github",
        "colab_type": "text"
      },
      "source": [
        "<a href=\"https://colab.research.google.com/github/khanbasma23/Assignment-4/blob/main/Untitled8.ipynb\" target=\"_parent\"><img src=\"https://colab.research.google.com/assets/colab-badge.svg\" alt=\"Open In Colab\"/></a>"
      ]
    },
    {
      "cell_type": "code",
      "execution_count": 1,
      "metadata": {
        "colab": {
          "base_uri": "https://localhost:8080/"
        },
        "id": "WWDcsOXtH9is",
        "outputId": "e1b0aaf1-0372-4d97-fe87-9f32ce05968f"
      },
      "outputs": [
        {
          "output_type": "stream",
          "name": "stdout",
          "text": [
            "Think of a number between 1 and 100, and I'll try to guess it!\n",
            "My guess is: 32\n",
            "Is my guess too (H)igh, too (L)ow, or (C)orrect? low\n",
            "Invalid input. Please enter H, L, or C.\n",
            "My guess is: 79\n",
            "Is my guess too (H)igh, too (L)ow, or (C)orrect? h\n",
            "My guess is: 37\n",
            "Is my guess too (H)igh, too (L)ow, or (C)orrect? l\n",
            "My guess is: 59\n",
            "Is my guess too (H)igh, too (L)ow, or (C)orrect? h\n",
            "My guess is: 39\n",
            "Is my guess too (H)igh, too (L)ow, or (C)orrect? l\n",
            "My guess is: 47\n",
            "Is my guess too (H)igh, too (L)ow, or (C)orrect? l\n",
            "My guess is: 50\n",
            "Is my guess too (H)igh, too (L)ow, or (C)orrect? c\n",
            "Yay! I guessed your number 50 in 7 attempts!\n"
          ]
        }
      ],
      "source": [
        "import random\n",
        "\n",
        "def main():\n",
        "    print(\"Think of a number between 1 and 100, and I'll try to guess it!\")\n",
        "\n",
        "    low = 1\n",
        "    high = 100\n",
        "    attempts = 0\n",
        "\n",
        "    while True:\n",
        "        # Computer ka guess\n",
        "        guess = random.randint(low, high)\n",
        "        attempts += 1\n",
        "        print(f\"My guess is: {guess}\")\n",
        "\n",
        "        # User se feedback lena\n",
        "        feedback = input(\"Is my guess too (H)igh, too (L)ow, or (C)orrect? \").lower()\n",
        "\n",
        "        if feedback == 'h':\n",
        "            high = guess - 1  # Range ko chhota karna\n",
        "        elif feedback == 'l':\n",
        "            low = guess + 1\n",
        "        elif feedback == 'c':\n",
        "            print(f\"Yay! I guessed your number {guess} in {attempts} attempts!\")\n",
        "            break  # Game over\n",
        "        else:\n",
        "            print(\"Invalid input. Please enter H, L, or C.\")\n",
        "\n",
        "if __name__ == '__main__':\n",
        "    main()\n"
      ]
    }
  ]
}