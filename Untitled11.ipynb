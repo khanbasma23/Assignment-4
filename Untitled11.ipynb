{
  "nbformat": 4,
  "nbformat_minor": 0,
  "metadata": {
    "colab": {
      "provenance": [],
      "authorship_tag": "ABX9TyON2/Ia0KzQwTeljz3lVQJA",
      "include_colab_link": true
    },
    "kernelspec": {
      "name": "python3",
      "display_name": "Python 3"
    },
    "language_info": {
      "name": "python"
    }
  },
  "cells": [
    {
      "cell_type": "markdown",
      "metadata": {
        "id": "view-in-github",
        "colab_type": "text"
      },
      "source": [
        "<a href=\"https://colab.research.google.com/github/khanbasma23/Assignment-4/blob/main/Untitled11.ipynb\" target=\"_parent\"><img src=\"https://colab.research.google.com/assets/colab-badge.svg\" alt=\"Open In Colab\"/></a>"
      ]
    },
    {
      "cell_type": "code",
      "execution_count": 3,
      "metadata": {
        "colab": {
          "base_uri": "https://localhost:8080/"
        },
        "id": "yxnsOKE3LxWR",
        "outputId": "87a6bda3-5a77-4311-88d0-875020970640"
      },
      "outputs": [
        {
          "output_type": "stream",
          "name": "stdout",
          "text": [
            "🎯 Countdown Timer 🎯\n",
            "Enter countdown time in seconds: 5\n",
            "⏰ Time's up!\n"
          ]
        }
      ],
      "source": [
        "import time\n",
        "\n",
        "def countdown_timer(seconds):\n",
        "    \"\"\"Given seconds ka countdown karega\"\"\"\n",
        "    while seconds > 0:\n",
        "        mins, secs = divmod(seconds, 60)  # Minutes aur seconds me convert karna\n",
        "        timer_display = f\"{mins:02d}:{secs:02d}\"  # 00:00 format me show karega\n",
        "        print(timer_display, end=\"\\r\")  # Same line me print karega\n",
        "        time.sleep(1)  # 1 second wait karega\n",
        "        seconds -= 1  # Countdown kam karega\n",
        "\n",
        "    print(\"⏰ Time's up!\")\n",
        "\n",
        "def main():\n",
        "    print(\"🎯 Countdown Timer 🎯\")\n",
        "    try:\n",
        "        seconds = int(input(\"Enter countdown time in seconds: \"))\n",
        "        countdown_timer(seconds)\n",
        "    except ValueError:\n",
        "        print(\"❌ Invalid input! Please enter an integer.\")\n",
        "\n",
        "if __name__ == '__main__':\n",
        "    main()\n"
      ]
    }
  ]
}