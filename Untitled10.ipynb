{
  "nbformat": 4,
  "nbformat_minor": 0,
  "metadata": {
    "colab": {
      "provenance": [],
      "authorship_tag": "ABX9TyMAy7scRH2ehyym2kUn4tOy",
      "include_colab_link": true
    },
    "kernelspec": {
      "name": "python3",
      "display_name": "Python 3"
    },
    "language_info": {
      "name": "python"
    }
  },
  "cells": [
    {
      "cell_type": "markdown",
      "metadata": {
        "id": "view-in-github",
        "colab_type": "text"
      },
      "source": [
        "<a href=\"https://colab.research.google.com/github/khanbasma23/Assignment-4/blob/main/Untitled10.ipynb\" target=\"_parent\"><img src=\"https://colab.research.google.com/assets/colab-badge.svg\" alt=\"Open In Colab\"/></a>"
      ]
    },
    {
      "cell_type": "code",
      "execution_count": 1,
      "metadata": {
        "colab": {
          "base_uri": "https://localhost:8080/"
        },
        "id": "7IvEjeVWKYNG",
        "outputId": "9f971b23-8667-4a0b-c53f-e1cb9d4a0c81"
      },
      "outputs": [
        {
          "output_type": "stream",
          "name": "stdout",
          "text": [
            "🎯 Welcome to Hangman Game! 🎯\n",
            "\n",
            "Word: _ _ _ _ _ _ _ _ _\n",
            "Attempts left: 6\n",
            "Guess a letter: hangman\n",
            "❌ Invalid input! Enter a single letter.\n",
            "\n",
            "Word: _ _ _ _ _ _ _ _ _\n",
            "Attempts left: 6\n",
            "Guess a letter: m\n",
            "❌ Wrong guess!\n",
            "\n",
            "Word: _ _ _ _ _ _ _ _ _\n",
            "Attempts left: 5\n",
            "Guess a letter: h\n",
            "\n",
            "Word: _ h _ _ _ _ _ _ _\n",
            "Attempts left: 5\n",
            "Guess a letter: i\n",
            "❌ Wrong guess!\n",
            "\n",
            "Word: _ h _ _ _ _ _ _ _\n",
            "Attempts left: 4\n",
            "Guess a letter: c\n",
            "\n",
            "Word: c h _ _ _ _ _ _ _\n",
            "Attempts left: 4\n",
            "Guess a letter: a'\n",
            "❌ Invalid input! Enter a single letter.\n",
            "\n",
            "Word: c h _ _ _ _ _ _ _\n",
            "Attempts left: 4\n",
            "Guess a letter: n\n",
            "\n",
            "Word: c h _ _ _ _ n _ _\n",
            "Attempts left: 4\n",
            "Guess a letter: g\n",
            "\n",
            "Word: c h _ _ _ _ n g _\n",
            "Attempts left: 4\n",
            "Guess a letter: e\n",
            "\n",
            "Word: c h _ _ _ e n g e\n",
            "Attempts left: 4\n",
            "Guess a letter: l\n",
            "\n",
            "Word: c h _ l l e n g e\n",
            "Attempts left: 4\n",
            "Guess a letter: a\n",
            "\n",
            "🎉 Congratulations! You guessed the word: challenge\n"
          ]
        }
      ],
      "source": [
        "import random\n",
        "\n",
        "def get_word():\n",
        "    \"\"\"Ek random word return karega\"\"\"\n",
        "    words = [\"python\", \"hangman\", \"developer\", \"challenge\", \"programming\", \"computer\"]\n",
        "    return random.choice(words).lower()\n",
        "\n",
        "def display(word, guessed_letters):\n",
        "    \"\"\"Word display karega with guessed letters\"\"\"\n",
        "    return \" \".join([letter if letter in guessed_letters else \"_\" for letter in word])\n",
        "\n",
        "def main():\n",
        "    print(\"🎯 Welcome to Hangman Game! 🎯\")\n",
        "\n",
        "    word = get_word()  # Secret word choose karna\n",
        "    guessed_letters = set()  # Guessed letters track karna\n",
        "    attempts = 6  # Maximum galtiyan allowed\n",
        "\n",
        "    while attempts > 0:\n",
        "        print(\"\\nWord:\", display(word, guessed_letters))\n",
        "        print(f\"Attempts left: {attempts}\")\n",
        "\n",
        "        guess = input(\"Guess a letter: \").lower()\n",
        "\n",
        "        # Validate user input\n",
        "        if len(guess) != 1 or not guess.isalpha():\n",
        "            print(\"❌ Invalid input! Enter a single letter.\")\n",
        "            continue\n",
        "\n",
        "        if guess in guessed_letters:\n",
        "            print(\"⚠️ You already guessed that letter!\")\n",
        "            continue\n",
        "\n",
        "        guessed_letters.add(guess)\n",
        "\n",
        "        if guess not in word:\n",
        "            attempts -= 1  # Wrong guess, reduce attempts\n",
        "            print(\"❌ Wrong guess!\")\n",
        "\n",
        "        # Check if user won\n",
        "        if all(letter in guessed_letters for letter in word):\n",
        "            print(\"\\n🎉 Congratulations! You guessed the word:\", word)\n",
        "            break\n",
        "    else:\n",
        "        print(\"\\n💀 Game Over! The word was:\", word)\n",
        "\n",
        "if __name__ == '__main__':\n",
        "    main()\n"
      ]
    }
  ]
}