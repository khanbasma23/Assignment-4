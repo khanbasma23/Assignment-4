{
  "nbformat": 4,
  "nbformat_minor": 0,
  "metadata": {
    "colab": {
      "provenance": [],
      "authorship_tag": "ABX9TyMVXyhZCGgNojwE9bfoylil",
      "include_colab_link": true
    },
    "kernelspec": {
      "name": "python3",
      "display_name": "Python 3"
    },
    "language_info": {
      "name": "python"
    }
  },
  "cells": [
    {
      "cell_type": "markdown",
      "metadata": {
        "id": "view-in-github",
        "colab_type": "text"
      },
      "source": [
        "<a href=\"https://colab.research.google.com/github/khanbasma23/Assignment-4/blob/main/Untitled6.ipynb\" target=\"_parent\"><img src=\"https://colab.research.google.com/assets/colab-badge.svg\" alt=\"Open In Colab\"/></a>"
      ]
    },
    {
      "cell_type": "code",
      "execution_count": null,
      "metadata": {
        "colab": {
          "base_uri": "https://localhost:8080/"
        },
        "id": "CI7E_fRnClJx",
        "outputId": "04285fe7-678a-4d4d-ca27-942f8959f470"
      },
      "outputs": [
        {
          "output_type": "stream",
          "name": "stdout",
          "text": [
            "Welcome to Mad Libs! Fill in the blanks to complete the story.\n"
          ]
        }
      ],
      "source": [
        "def main():\n",
        "    print(\"Welcome to Mad Libs! Fill in the blanks to complete the story.\")\n",
        "\n",
        "    # User se inputs lena\n",
        "    name = input(\"Enter a name: \")\n",
        "    place = input(\"Enter a place: \")\n",
        "    animal = input(\"Enter an animal: \")\n",
        "    verb = input(\"Enter a verb: \")\n",
        "    food = input(\"Enter a type of food: \")\n",
        "\n",
        "    # Mad Libs Story\n",
        "    story = f\"One day, {name} went to {place}. There, they saw a {animal} that was {verb} around. \" \\\n",
        "            f\"Surprisingly, it was also eating {food}! What a strange day!\"\n",
        "\n",
        "    # Final story print karna\n",
        "    print(\"\\nHere is your Mad Libs story:\\n\")\n",
        "    print(story)\n",
        "\n",
        "# Program run karne ke liye\n",
        "if __name__ == '__main__':\n",
        "    main()"
      ]
    }
  ]
}