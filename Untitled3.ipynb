{
 "cells": [
  {
   "cell_type": "code",
   "execution_count": null,
   "metadata": {
    "colab": {
     "base_uri": "https://localhost:8080/"
    },
    "executionInfo": {
     "elapsed": 6286,
     "status": "ok",
     "timestamp": 1742898885832,
     "user": {
      "displayName": "Basma Khan",
      "userId": "04805881889764439342"
     },
     "user_tz": -300
    },
    "id": "q9A57btc3Ub5",
    "outputId": "310f4796-4e32-4ff5-caf6-89eebe7d29cc"
   },
   "outputs": [
    {
     "name": "stdout",
     "output_type": "stream",
     "text": [
      "What's your favorite animal? cow\n",
      "My favorite animal is also cow!\n"
     ]
    }
   ],
   "source": [
    "\n",
    "def main():\n",
    "   \n",
    "    animal = input(\"What's your favorite animal? \")\n",
    "\n",
    "    # Response print karna\n",
    "    print(\"My favorite animal is also \" + animal + \"!\")\n",
    "\n",
    "# Program ko run karne ke liye\n",
    "if __name__ == '__main__':\n",
    "    main()\n"
   ]
  }
 ],
 "metadata": {
  "colab": {
   "authorship_tag": "ABX9TyOVN5+S3KhKuuxOvmuWe0DR",
   "provenance": []
  },
  "kernelspec": {
   "display_name": "Python 3",
   "name": "python3"
  },
  "language_info": {
   "name": "python"
  }
 },
 "nbformat": 4,
 "nbformat_minor": 0
}
