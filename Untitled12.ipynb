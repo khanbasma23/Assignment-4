{
  "nbformat": 4,
  "nbformat_minor": 0,
  "metadata": {
    "colab": {
      "provenance": [],
      "authorship_tag": "ABX9TyO7wJE/M62+KTKOFMMR8UUs",
      "include_colab_link": true
    },
    "kernelspec": {
      "name": "python3",
      "display_name": "Python 3"
    },
    "language_info": {
      "name": "python"
    }
  },
  "cells": [
    {
      "cell_type": "markdown",
      "metadata": {
        "id": "view-in-github",
        "colab_type": "text"
      },
      "source": [
        "<a href=\"https://colab.research.google.com/github/khanbasma23/Assignment-4/blob/main/Untitled12.ipynb\" target=\"_parent\"><img src=\"https://colab.research.google.com/assets/colab-badge.svg\" alt=\"Open In Colab\"/></a>"
      ]
    },
    {
      "cell_type": "code",
      "execution_count": 4,
      "metadata": {
        "colab": {
          "base_uri": "https://localhost:8080/"
        },
        "id": "Uv2n3f0ZM0vZ",
        "outputId": "b46b2e10-3bae-4653-86a4-0688c93935ad"
      },
      "outputs": [
        {
          "output_type": "stream",
          "name": "stdout",
          "text": [
            "🔐 Password Generator 🔐\n",
            "Enter number of passwords to generate: 34\n",
            "Enter length of each password: 2\n",
            "\n",
            "Generated Passwords:\n",
            "-j\n",
            "B!\n",
            "De\n",
            "2J\n",
            "s>\n",
            "~%\n",
            "DN\n",
            "'h\n",
            "0T\n",
            "rz\n",
            "'b\n",
            "Oa\n",
            "|z\n",
            "@P\n",
            "[j\n",
            "5w\n",
            "Z`\n",
            "gw\n",
            "|J\n",
            "^u\n",
            "'_\n",
            "-2\n",
            "1H\n",
            "@b\n",
            "??\n",
            "R_\n",
            "C!\n",
            "$F\n",
            "u.\n",
            "j1\n",
            "l#\n",
            "lI\n",
            "0~\n",
            "`S\n"
          ]
        }
      ],
      "source": [
        "import random\n",
        "import string\n",
        "\n",
        "def generate_password(length):\n",
        "    \"\"\"Random password generate karega given length ke basis pe\"\"\"\n",
        "    characters = string.ascii_letters + string.digits + string.punctuation\n",
        "    return ''.join(random.choice(characters) for _ in range(length))\n",
        "\n",
        "def main():\n",
        "    print(\"🔐 Password Generator 🔐\")\n",
        "\n",
        "    try:\n",
        "        num_passwords = int(input(\"Enter number of passwords to generate: \"))\n",
        "        password_length = int(input(\"Enter length of each password: \"))\n",
        "\n",
        "        if num_passwords <= 0 or password_length <= 0:\n",
        "            print(\"❌ Please enter positive numbers!\")\n",
        "            return\n",
        "\n",
        "        print(\"\\nGenerated Passwords:\")\n",
        "        for _ in range(num_passwords):\n",
        "            print(generate_password(password_length))\n",
        "\n",
        "    except ValueError:\n",
        "        print(\"❌ Invalid input! Please enter integers.\")\n",
        "\n",
        "if __name__ == '__main__':\n",
        "    main()\n"
      ]
    }
  ]
}